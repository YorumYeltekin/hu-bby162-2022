{
  "nbformat": 4,
  "nbformat_minor": 0,
  "metadata": {
    "colab": {
      "name": "proje01",
      "provenance": [],
      "authorship_tag": "ABX9TyNPuLZyqmdh6OZ250IrcOks",
      "include_colab_link": true
    },
    "kernelspec": {
      "name": "python3",
      "display_name": "Python 3"
    },
    "language_info": {
      "name": "python"
    }
  },
  "cells": [
    {
      "cell_type": "markdown",
      "metadata": {
        "id": "view-in-github",
        "colab_type": "text"
      },
      "source": [
        "<a href=\"https://colab.research.google.com/github/YorumYeltekin/hu-bby162-2022/blob/main/proje01.ipynb\" target=\"_parent\"><img src=\"https://colab.research.google.com/assets/colab-badge.svg\" alt=\"Open In Colab\"/></a>"
      ]
    },
    {
      "cell_type": "code",
      "execution_count": 2,
      "metadata": {
        "colab": {
          "base_uri": "https://localhost:8080/"
        },
        "id": "LS4sfBqyGAC3",
        "outputId": "634eb862-3720-42e8-98da-6dcb0e97f5e9"
      },
      "outputs": [
        {
          "output_type": "stream",
          "name": "stdout",
          "text": [
            "İndeks numarasını giriniz: 4\n",
            "Bir sayı girdiniz!\n",
            "demir\n"
          ]
        }
      ],
      "source": [
        "liste = [\"tavşan\", \"marul\", \"leopar\", \"salam\", \"demir\", \"tahta\"]\n",
        "while True:\n",
        "  try:\n",
        "    secim = int(input(\"İndeks numarasını giriniz: \"))     \n",
        "  except ValueError:\n",
        "     print(\"Lütfen bir sayı giriniz!\")\n",
        "     continue\n",
        "  else:\n",
        "     print(\"Bir sayı girdiniz!\")\n",
        "     break   \n",
        "listeToplam = len(liste)\n",
        "\n",
        "if secim < listeToplam:\n",
        " print(liste[secim])\n",
        "else:\n",
        "  print(\"İndeks dışı giriş yapıldı!\")"
      ]
    }
  ]
}