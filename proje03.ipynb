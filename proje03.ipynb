{
  "nbformat": 4,
  "nbformat_minor": 0,
  "metadata": {
    "colab": {
      "name": "proje03",
      "provenance": [],
      "include_colab_link": true
    },
    "kernelspec": {
      "name": "python3",
      "display_name": "Python 3"
    },
    "language_info": {
      "name": "python"
    }
  },
  "cells": [
    {
      "cell_type": "markdown",
      "metadata": {
        "id": "view-in-github",
        "colab_type": "text"
      },
      "source": [
        "<a href=\"https://colab.research.google.com/github/YorumYeltekin/hu-bby162-2022/blob/main/proje03.ipynb\" target=\"_parent\"><img src=\"https://colab.research.google.com/assets/colab-badge.svg\" alt=\"Open In Colab\"/></a>"
      ]
    },
    {
      "cell_type": "code",
      "execution_count": null,
      "metadata": {
        "colab": {
          "base_uri": "https://localhost:8080/",
          "height": 669
        },
        "id": "vDzqKSRqUcj7",
        "outputId": "f0805515-9849-4eed-9c14-c2b773b4b63e"
      },
      "outputs": [
        {
          "output_type": "stream",
          "name": "stdout",
          "text": [
            "Teste Hoş Geldin!\n",
            "Cevaplar 'd' veya 'y' şeklinde giriniz.\n",
            "Başarılar!!\n",
            "Soru 1: Berlin, Almanya'nın başkentidir.\n",
            "d/yd\n",
            "Doğru cevap!\n",
            "Soru 2: İsveş, Amerika kıtasındadır.\n",
            "d/yy\n",
            "Doğru cevap!\n",
            "Soru 3: Dünya'da yerçekimi vardır.\n",
            "d/yd\n",
            "Doğru cevap!\n",
            "Soru 4: İlk bilgisayar unvanına sahip ENIAC 1976 yılında tasarlanmıştır.\n",
            "d/yy\n",
            "Doğru cevap!\n",
            "Soru 5: Hulk bir Marvel süperkahramanıdır.\n",
            "d/yd\n",
            "Doğru cevap!\n",
            "Toplam puanınız: 100\n",
            "Tebrikler, geçtin!\n"
          ]
        },
        {
          "output_type": "error",
          "ename": "UnboundLocalError",
          "evalue": "ignored",
          "traceback": [
            "\u001b[0;31m---------------------------------------------------------------------------\u001b[0m",
            "\u001b[0;31mUnboundLocalError\u001b[0m                         Traceback (most recent call last)",
            "\u001b[0;32m<ipython-input-17-3c9d0146bf32>\u001b[0m in \u001b[0;36m<module>\u001b[0;34m()\u001b[0m\n\u001b[1;32m     37\u001b[0m \u001b[0;34m\u001b[0m\u001b[0m\n\u001b[1;32m     38\u001b[0m \u001b[0;34m\u001b[0m\u001b[0m\n\u001b[0;32m---> 39\u001b[0;31m \u001b[0mtestcalıstır\u001b[0m\u001b[0;34m(\u001b[0m\u001b[0;34m)\u001b[0m\u001b[0;34m\u001b[0m\u001b[0;34m\u001b[0m\u001b[0m\n\u001b[0m",
            "\u001b[0;32m<ipython-input-17-3c9d0146bf32>\u001b[0m in \u001b[0;36mtestcalıstır\u001b[0;34m()\u001b[0m\n\u001b[1;32m     30\u001b[0m        \u001b[0mprint\u001b[0m\u001b[0;34m(\u001b[0m\u001b[0;34m\"Testi geçemedin!\"\u001b[0m\u001b[0;34m)\u001b[0m\u001b[0;34m\u001b[0m\u001b[0;34m\u001b[0m\u001b[0m\n\u001b[1;32m     31\u001b[0m        \u001b[0mtekrar\u001b[0m \u001b[0;34m=\u001b[0m \u001b[0minput\u001b[0m\u001b[0;34m(\u001b[0m\u001b[0;34m\"Testi tekrar etmek ister misin [e/h]\"\u001b[0m\u001b[0;34m)\u001b[0m\u001b[0;34m\u001b[0m\u001b[0;34m\u001b[0m\u001b[0m\n\u001b[0;32m---> 32\u001b[0;31m       \u001b[0;32mif\u001b[0m \u001b[0mtekrar\u001b[0m \u001b[0;34m==\u001b[0m \u001b[0;34m\"e\"\u001b[0m \u001b[0;34m:\u001b[0m\u001b[0;34m\u001b[0m\u001b[0;34m\u001b[0m\u001b[0m\n\u001b[0m\u001b[1;32m     33\u001b[0m         \u001b[0mtestcalıstır\u001b[0m\u001b[0;34m(\u001b[0m\u001b[0;34m)\u001b[0m\u001b[0;34m\u001b[0m\u001b[0;34m\u001b[0m\u001b[0m\n\u001b[1;32m     34\u001b[0m       \u001b[0;32melse\u001b[0m\u001b[0;34m:\u001b[0m\u001b[0;34m\u001b[0m\u001b[0;34m\u001b[0m\u001b[0m\n",
            "\u001b[0;31mUnboundLocalError\u001b[0m: local variable 'tekrar' referenced before assignment"
          ]
        }
      ],
      "source": [
        "#Test\n",
        "\n",
        "print(\"Teste Hoş Geldiniz!\")\n",
        "print(\"Cevaplar \\'d' veya \\'y' şeklinde giriniz.\")\n",
        "print(\"Başarılar!!\")\n",
        "\n",
        "\n",
        "sorular = [\"Berlin, Almanya'nın başkentidir.\", \"İsveş, Amerika kıtasındadır.\", \"Dünya'da yerçekimi vardır.\", \"İlk bilgisayar unvanına sahip ENIAC 1976 yılında tasarlanmıştır.\", \"Hulk bir Marvel süperkahramanıdır.\"]\n",
        "cevaplar = [\"d\", \"y\", \"d\", \"y\", \"d\" ]\n",
        "\n",
        "def testcalıstır() :\n",
        "      soruNo = 0\n",
        "      cevapNo = 0\n",
        "      puan = 0\n",
        "      for soru in sorular:\n",
        "        soruNo +=1\n",
        "        print(\"Soru \" + str(soruNo) + \": \" + soru)\n",
        "        cevap = input(\"d/y\")\n",
        "        if cevap == cevaplar[cevapNo]:\n",
        "          print(\"Doğru cevap!\")\n",
        "          puan +=1\n",
        "        else:\n",
        "          print(\"Yanlış cevap!\")\n",
        "        cevapNo +=1\n",
        "      toplamPuan = int((puan/soruNo)*100)\n",
        "      print(\"Toplam puanınız: \" + str(toplamPuan))\n",
        "      if toplamPuan >= 60:\n",
        "       print(\"Tebrikler, geçtin!\")\n",
        "      else:\n",
        "       print(\"Testi geçemedin!\")\n",
        "       tekrar = input(\"Testi tekrar etmek ister misin [e/h]\")\n",
        "      if tekrar == \"e\" :\n",
        "        testcalıstır()\n",
        "      else:\n",
        "        print(\"Test sonlandı!\")\n",
        "      testcalıstır()\n",
        "\n",
        "\n",
        "testcalıstır()"
      ]
    }
  ]
}