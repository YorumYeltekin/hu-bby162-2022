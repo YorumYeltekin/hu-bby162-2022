{
  "nbformat": 4,
  "nbformat_minor": 0,
  "metadata": {
    "colab": {
      "name": "proje03",
      "provenance": [],
      "authorship_tag": "ABX9TyOX52FZ+RlhtN6tkIAqrcN7",
      "include_colab_link": true
    },
    "kernelspec": {
      "name": "python3",
      "display_name": "Python 3"
    },
    "language_info": {
      "name": "python"
    }
  },
  "cells": [
    {
      "cell_type": "markdown",
      "metadata": {
        "id": "view-in-github",
        "colab_type": "text"
      },
      "source": [
        "<a href=\"https://colab.research.google.com/github/YorumYeltekin/hu-bby162-2022/blob/main/proje03.ipynb\" target=\"_parent\"><img src=\"https://colab.research.google.com/assets/colab-badge.svg\" alt=\"Open In Colab\"/></a>"
      ]
    },
    {
      "cell_type": "code",
      "execution_count": 13,
      "metadata": {
        "colab": {
          "base_uri": "https://localhost:8080/",
          "height": 130
        },
        "id": "vDzqKSRqUcj7",
        "outputId": "adecdb62-1241-41b6-e696-19adbe38c7fd"
      },
      "outputs": [
        {
          "output_type": "error",
          "ename": "SyntaxError",
          "evalue": "ignored",
          "traceback": [
            "\u001b[0;36m  File \u001b[0;32m\"<ipython-input-13-42df5f093056>\"\u001b[0;36m, line \u001b[0;32m17\u001b[0m\n\u001b[0;31m    else:\u001b[0m\n\u001b[0m       ^\u001b[0m\n\u001b[0;31mSyntaxError\u001b[0m\u001b[0;31m:\u001b[0m invalid syntax\n"
          ]
        }
      ],
      "source": [
        "sorular = [\"Ankara 13 Ekim 1923 yılında başkent olarak kabul edilmiştir\", \"Tarihteki ilk telefon görüşmesi 10 Mart 1876'da yapılmıştır\", \"İsveç Amerika Kıtasında bulunmaktadır\"]\n",
        "cevaplar = [\"d\", \"d\", \"y\"]\n",
        "\n",
        "def testCalistir():\n",
        "\n",
        "   soruNo = 0\n",
        "   cevapNo = 0\n",
        "   puan = 0\n",
        "\n",
        "   for soru in sorular:\n",
        "     soruNo +=1\n",
        "     print(\"soru \"+str(soruNo)+\": \" + soru)\n",
        "     cevap = input(\"d/y\")\n",
        "     if cevap == cevaplar[cevapNo]:\n",
        "       print(\"Bildiniz\")\n",
        "       puan +=1\n",
        "       else:\n",
        "         print(\"Bilemediniz\")\n",
        "         cevapNo +=1\n",
        "\n",
        "         toplamPuan = int((puan/soruNo)*100)\n",
        "         print(\"Toplam puanınız: \"+str(toplamPuan))\n",
        "         if toplamPuan >= 60:\n",
        "           print(\"Tebrikler, testi geçtiniz\")\n",
        "           else:\n",
        "           print(\"Testi geçemediniz\")\n",
        "           tekrar = input(\"Testi tekrar almak istiyor musunuz? [e/h]\")\n",
        "           if tekrar == \"e\":\n",
        "           testCalistir()\n",
        "           else:\n",
        "           print(\"Test uygulaması sonlandırıldı\")\n",
        "\n",
        "           testCalistir()\n",
        "\n",
        "\n"
      ]
    }
  ]
}