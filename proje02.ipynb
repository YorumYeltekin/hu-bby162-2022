{
  "nbformat": 4,
  "nbformat_minor": 0,
  "metadata": {
    "colab": {
      "name": "proje02.ipynb",
      "provenance": [],
      "include_colab_link": true
    },
    "kernelspec": {
      "name": "python3",
      "display_name": "Python 3"
    },
    "language_info": {
      "name": "python"
    }
  },
  "cells": [
    {
      "cell_type": "markdown",
      "metadata": {
        "id": "view-in-github",
        "colab_type": "text"
      },
      "source": [
        "<a href=\"https://colab.research.google.com/github/YorumYeltekin/hu-bby162-2022/blob/main/proje02.ipynb\" target=\"_parent\"><img src=\"https://colab.research.google.com/assets/colab-badge.svg\" alt=\"Open In Colab\"/></a>"
      ]
    },
    {
      "cell_type": "code",
      "execution_count": null,
      "metadata": {
        "colab": {
          "base_uri": "https://localhost:8080/"
        },
        "id": "oRP78BmVpHrG",
        "outputId": "f93f9414-ecae-4ca8-a228-71d1d2733dc2"
      },
      "outputs": [
        {
          "output_type": "stream",
          "name": "stdout",
          "text": [
            "Merhaba !\n",
            "Adam Asmaca Oyununa Hoşgeldiniz !\n",
            "İsminizi Giriniz: yorum\n",
            "Oyuna hoş geldin yorum\n",
            "Bu oyunda spor dallarını bilmeye çalışacağız! Hazırsan başlıyoruz, yorum\n",
            "Oynamak istediğiniz seviyeyi seçiniz: 1 - 2 - 3 \n",
            "Seviye: 1\n",
            "['_', '_', '_', '_', '_', '_', '_', '_']\n",
            "Bir harf giriniz: a\n",
            "['_', '_', '_', '_', '_', '_', '_', '_']\n",
            "Kalan canınınız: 9\n",
            "Bir harf giriniz: e\n",
            "['_', '_', '_', 'e', '_', '_', '_', '_']\n",
            "Kalan canınınız: 9\n",
            "Bir harf giriniz: b\n",
            "['_', '_', '_', 'e', '_', 'b', '_', '_']\n",
            "Kalan canınınız: 9\n",
            "Bir harf giriniz: a\n",
            "['_', '_', '_', 'e', '_', 'b', '_', '_']\n",
            "Kalan canınınız: 8\n",
            "Bir harf giriniz: s\n",
            "['_', '_', '_', 'e', '_', 'b', '_', '_']\n",
            "Kalan canınınız: 7\n",
            "Bir harf giriniz: t\n",
            "['_', '_', '_', 'e', '_', 'b', '_', '_']\n",
            "Kalan canınınız: 6\n",
            "Bir harf giriniz: i\n",
            "['_', '_', '_', 'e', '_', 'b', '_', '_']\n",
            "Kalan canınınız: 5\n",
            "Bir harf giriniz: v\n",
            "['v', '_', '_', 'e', '_', 'b', '_', '_']\n",
            "Kalan canınınız: 5\n",
            "Bir harf giriniz: o\n",
            "['v', 'o', '_', 'e', '_', 'b', 'o', '_']\n",
            "Kalan canınınız: 5\n",
            "Bir harf giriniz: l\n",
            "['v', 'o', 'l', 'e', '_', 'b', 'o', 'l']\n",
            "Kalan canınınız: 5\n",
            "Bir harf giriniz: y\n",
            "['v', 'o', 'l', 'e', 'y', 'b', 'o', 'l']\n",
            "Kalan canınınız: 5\n"
          ]
        }
      ],
      "source": [
        "from random import randint\n",
        "\n",
        "print(\"Merhaba !\")\n",
        "print(\"Adam Asmaca Oyununa Hoşgeldiniz !\")\n",
        "\n",
        "isim=input(\"İsminizi Giriniz: \")\n",
        "print(\"Oyuna hoş geldin\", isim)\n",
        "print(\"Bu oyunda spor dallarını bilmeye çalışacağız! Hazırsan başlıyoruz,\",isim)\n",
        "\n",
        "def oyna(adamCan):\n",
        "  kelimeler = seviye1 = [\"basketbol\", \"futbol\", \"izmir\" , \"voleybol\" , \"biatlon\"]\n",
        "  kelimeSayisi = len(kelimeler)\n",
        "  secilen = randint(0, kelimeSayisi-1)\n",
        "  secilenKelime = kelimeler[secilen]\n",
        "\n",
        "  dizilenKelime = []\n",
        "  for diz in kelimeler[secilen]:\n",
        "    dizilenKelime.append(\"_\")\n",
        "  print(dizilenKelime)\n",
        "\n",
        "  while adamCan > 0:\n",
        "    girilenHarf = input(\"Bir harf giriniz: \")\n",
        "    canKontrol = girilenHarf in secilenKelime\n",
        "    if canKontrol == False:\n",
        "      adamCan -=1\n",
        "    i = 0\n",
        "    for kontrol in secilenKelime:\n",
        "      if secilenKelime[i] == girilenHarf:\n",
        "        dizilenKelime[i] = girilenHarf\n",
        "      i +=1\n",
        "    print(dizilenKelime)\n",
        "    print(\"Kalan canınınız: \" + str(adamCan))\n",
        "\n",
        "def seviyeSec():\n",
        "  print(\"Oynamak istediğiniz seviyeyi seçiniz: 1 - 2 - 3 \")\n",
        "  seviye = input(\"Seviye: \")\n",
        "  if seviye == \"1\":\n",
        "    oyna(10)\n",
        "  elif seviye == \"2\":\n",
        "    oyna(5)\n",
        "  elif seviye == \"3\":\n",
        "    oyna(3)\n",
        "  else:\n",
        "    print(\"Maalesef geçerli bir seviye girmediniz.\")\n",
        "\n",
        "\n",
        "seviyeSec()"
      ]
    }
  ]
}